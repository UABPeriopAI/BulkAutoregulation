{
 "cells": [
  {
   "cell_type": "markdown",
   "metadata": {},
   "source": [
    "# III. Annotated Python Code"
   ]
  },
  {
   "cell_type": "markdown",
   "metadata": {},
   "source": [
    "## Required packages\n",
    "The packagage \"sickbay\" is available upon request from MIC(TM). Conact jayvee.abella@michealthcare.com for more information."
   ]
  },
  {
   "cell_type": "code",
   "execution_count": null,
   "metadata": {},
   "outputs": [],
   "source": [
    "import sickbay\n",
    "import sickbay.data\n",
    "import sickbay.time\n",
    "import sickbay.math\n",
    "import pandas as pd\n",
    "import numpy as np\n",
    "%config Completer.use_jedi = False\n",
    "from datetime import datetime\n",
    "from dateutil import tz\n",
    "\n",
    "import scipy\n",
    "import scipy.signal\n",
    "import scipy.optimize\n",
    "import scipy.interpolate\n",
    "\n",
    "import IPython\n",
    "import ipywidgets as widgets\n",
    "\n",
    "import datetime\n",
    "from PIL import Image\n",
    "\n",
    "import shutil\n",
    "import re\n",
    "\n",
    "import sqlalchemy\n",
    "import pyodbc\n",
    "\n",
    "import streamz\n",
    "import holoviews as hv\n",
    "from holoviews import opts\n",
    "from holoviews.streams import Pipe, Buffer\n",
    "\n",
    "import time\n",
    "\n",
    "import matplotlib.pyplot as plt\n",
    "\n",
    "hv.extension('bokeh')"
   ]
  },
  {
   "cell_type": "markdown",
   "metadata": {},
   "source": [
    "## User Inputs"
   ]
  },
  {
   "cell_type": "code",
   "execution_count": null,
   "metadata": {},
   "outputs": [],
   "source": [
    "outdir = '/output/'\n",
    "patient_list_file = 'patient_list.csv'\n",
    "algos_to_try = ['HVx', 'COx']\n",
    "algo_cbf_lims = [(0,100), (-9,11)]\n",
    "abp_limits = (0,250)\n",
    "ca_threshold = 0.3"
   ]
  },
  {
   "cell_type": "markdown",
   "metadata": {},
   "source": [
    "# Read input file"
   ]
  },
  {
   "cell_type": "code",
   "execution_count": null,
   "metadata": {},
   "outputs": [],
   "source": [
    "input_details = pd.read_csv(patient_list_file)"
   ]
  },
  {
   "cell_type": "markdown",
   "metadata": {},
   "source": [
    "# Sign in to Sickbay (TM) server"
   ]
  },
  {
   "cell_type": "code",
   "execution_count": null,
   "metadata": {},
   "outputs": [],
   "source": [
    "sickbay.sign_in('sickbay_url_as_string')"
   ]
  },
  {
   "cell_type": "code",
   "execution_count": null,
   "metadata": {},
   "outputs": [],
   "source": [
    "# Create LaTeX template name\n",
    "today = datetime.date.today()\n",
    "report_location = outdir + 'Autoreg'+str(today)+'.tex'\n",
    "template = '/output/ReportTemplate.tex'\n"
   ]
  },
  {
   "cell_type": "markdown",
   "metadata": {},
   "source": [
    "# Custom utility functions"
   ]
  },
  {
   "cell_type": "code",
   "execution_count": null,
   "metadata": {},
   "outputs": [],
   "source": [
    "# custom function for capturing standard output\n",
    "from io import StringIO \n",
    "import sys\n",
    "\n",
    "class Capturing(list):\n",
    "    def __enter__(self):\n",
    "        self._stdout = sys.stdout\n",
    "        sys.stdout = self._stringio = StringIO()\n",
    "        return self\n",
    "    def __exit__(self, *args):\n",
    "        self.extend(self._stringio.getvalue().splitlines())\n",
    "        del self._stringio    # free up some memory\n",
    "        sys.stdout = self._stdout"
   ]
  },
  {
   "cell_type": "code",
   "execution_count": null,
   "metadata": {},
   "outputs": [],
   "source": [
    "# Custom function for placing figures in LaTeX report.\n",
    "def prepare_figure_lines(start_time, end_time, patiend_id, outpath):\n",
    "    lines = ['\\\\begin{figure}[H]'\n",
    "        , '\\\\centering'\n",
    "        , '\\\\includegraphics[width=\\\\textwidth]{'+outpath+'}'\n",
    "        , '\\\\caption{\\\\label{fig} Maximum data window : '+ start_time + ' to ' + end_time +'}'\n",
    "        , '\\\\end{figure}'\n",
    "        ]\n",
    "    return lines"
   ]
  },
  {
   "cell_type": "code",
   "execution_count": null,
   "metadata": {},
   "outputs": [],
   "source": [
    "# Wrapper for sickbay methods that enables report generation\n",
    "def report_patient_curves(patient_id, start_time, end_time, output_dir, curve_name, channel_id=[1,2,3,4], autoreg_algo='COx', cbf_limits=(0,100), threshold=0.3):\n",
    "    curve_name_clean = curve_name.replace(\" \", \"_\")\n",
    "    stats_df = pd.DataFrame()\n",
    "    for channel in channel_id:\n",
    "        with Capturing() as full_output:\n",
    "            out = sickbay.math.compute_autoregulation(\n",
    "                autoregulation_index_type=autoreg_algo\n",
    "                , patient_id=patient_id\n",
    "                , starttime= start_time\n",
    "                , endtime=end_time\n",
    "                , channel=channel \n",
    "                , abp_lim=abp_limits\n",
    "                , cbf_lim=cbf_limits # since using COx and Optical density\n",
    "                , bin_range=(40,120)\n",
    "                , lla_threshold=threshold\n",
    "                , abp_data=None\n",
    "                , cbf_data=None\n",
    "            )\n",
    "\n",
    "        full_output_cleaned = [re.sub('_',  ' ', line) for line in full_output]\n",
    "        warnings = [i for i in full_output_cleaned if 'Warning' in i]\n",
    "        if len(warnings)>0:\n",
    "            with open( report_location , 'a') as report:\n",
    "                report.writelines(\"\\n\\\\subsubsection*{\"+curve_name+\"}\\n\")\n",
    "                report.writelines(\"\\n \" +autoreg_algo + \" channel \" + str(channel) + \"\\n\")\n",
    "                report.writelines(\"%s\\n\" % line for line in warnings)\n",
    "        else:\n",
    "            if out is not None:\n",
    "                with open( report_location , 'a') as report:\n",
    "                    report.writelines(\"\\n\\\\subsubsection*{\"+curve_name+\"}\\n\")\n",
    "                    full_figure = outdir + curve_name_clean + '_' + str(patient_id)+ '_' + str(channel) + '.png'\n",
    "                    out['autoreg_plot'].set_size_inches(7,3)\n",
    "                    out['autoreg_plot'].savefig(full_figure, dpi=300)\n",
    "                    full_image = prepare_figure_lines(start_time.strftime('%Y-%m-%d %H:%M:%S'), end_time.strftime('%Y-%m-%d %H:%M:%S'), patient_id, full_figure)\n",
    "                    report.writelines(\"%s\\n\" % line for line in full_image)\n",
    "                    details = pd.DataFrame.from_records([\n",
    "                    {\n",
    "                        \"Patient ID\": patient_id\n",
    "                        , \"Window\": curve_name\n",
    "                        , \"Algo\":autoreg_algo\n",
    "                        , \"Channel\":channel\n",
    "                        , \"CPP_opt\":out['cpp_opt']\n",
    "                        , \"LLA\":out['autoreg_limits'][0]\n",
    "                        , \"ULA\":out['autoreg_limits'][1]\n",
    "                        , \"Time below LLA (s)\":out['time_outside_limits'][0]\n",
    "                        , \"Time above ULA (s)\":out['time_outside_limits'][1]\n",
    "                        , \"Percent time below LLA (%)\":out['percent_time_outside_limits'][0]\n",
    "                        , \"Percent time above ULA (%)\":out['percent_time_outside_limits'][1]\n",
    "                        , \"Dose below LLA (mmHg*sec)\":out['dose_outside_limits'][0]\n",
    "                        , \"Dose above ULA (mmHg*sec)\":out['dose_outside_limits'][1]\n",
    "                    }])\n",
    "                    details_t = details.transpose()\n",
    "                    details_t.rename(columns={0: \"Value\"}, inplace=True)\n",
    "                    table_lines = details_t.to_latex(index=True)\n",
    "                    report.writelines(\"%s\" % line for line in table_lines)\n",
    "                    # uncomment next two lines for algorithm details and quality checks\n",
    "                   # report.writelines(\"\\n\\\\paragraph*{\"+curve_name+\" details}\\n\\n\")\n",
    "                   # report.writelines(\"%s\\n\\n\" % line for line in full_output_cleaned)\n",
    "                stats_df = pd.concat([stats_df, details])\n",
    "            plt.close('all')\n",
    "    return(stats_df)"
   ]
  },
  {
   "cell_type": "markdown",
   "metadata": {},
   "source": [
    "# Get study IDs\n",
    "Using provided MRNs, get the Sickbay internal patient Study ID"
   ]
  },
  {
   "cell_type": "code",
   "execution_count": null,
   "metadata": {},
   "outputs": [],
   "source": [
    "# connect mrn and sickbay patient id\n",
    "mrn_id = pd.DataFrame()\n",
    "for mrn in input_details.MRN:\n",
    "    id_single = sickbay.data.get_ids_from_mrns(mrn)\n",
    "    mrn_id_single = {\n",
    "        'MRN':mrn\n",
    "        , 'patient_id':id_single.iloc[0]['Patient ID']\n",
    "    }\n",
    "    mrn_id = mrn_id.append(mrn_id_single\n",
    "                           , ignore_index=True\n",
    "                          ).astype('int')\n",
    "patient_list = input_details.merge(mrn_id, on='MRN')"
   ]
  },
  {
   "cell_type": "markdown",
   "metadata": {},
   "source": [
    "# Generate Report \n",
    "Use input patient list and the acquired Study IDs to generate report"
   ]
  },
  {
   "cell_type": "markdown",
   "metadata": {},
   "source": [
    "### Narration\n",
    "The code below used methods from the Sickbay(TM) package to perform the following steps.\n",
    "\n",
    "1. Get retrospectivedData (ABP and CBF signal depending on index type). Transform CBF if necessary according to index type. (Cabrera 2018, Lee 2009)\n",
    "\n",
    "2. Determine sampling rate information.\n",
    "\n",
    "3. Find the amount of overlapping ABP/CBF data.\n",
    "\n",
    "4. Create one data frame with evenly spaced time points.\n",
    "\n",
    "5. Filter ABP and CBF data based on user-provided limits.\n",
    "\n",
    "6. Compute CA index using Aries 2012 method: \"Time-averaged values of ICP, ABP, and CPP (CPP = ABP-ICP) were calculated using waveform time integration over 60-sec intervals. Cerebrovascular PRx was calculated as a moving Pearson correlation coefficient between 30 consecutive, 10-sec averaged values of ABP and corresponding ICP signals (with 80% overlap of data ). Averages over 10 secs were used to suppress the influence of the pulse and respiratory frequency wave components.\" (Aries 2012)\n",
    "\n",
    "7. Divide pressure values into 5mmHg bins from 40mmHg to 120mmHg.\n",
    "\n",
    "8. Remove bins that contain less than 2% of data.\n",
    "\n",
    "9. Remove edge bins that do not follow a parabolic curve pattern.\n",
    "\n",
    "10. Fir a second order polynomial to (pressure bin, mean CA index) coordinate pairs.\n",
    "\n",
    "11. Perform quality checks from Aries 2012:\n",
    "\n",
    "\n",
    ">\"The fitted curve must fulfil the following criteria:\n",
    ">\n",
    ">- The fitted part of the curve must include the CPPbest value as defined above.\n",
    ">\n",
    ">- Data corresponding to the bins used in successful curve fitting (i.e., after various exclusions men- tioned above) must at least: i. rep- resent 50% of all the data points in the analyzed window period, ii. cover at least 50% of the range of PRx data available in that period, and iii. represent 20 mm Hg of CPP fluctuation, so the number of bins used for data fit must be at least 4.\n",
    ">\n",
    ">- The fitted part of the curve must span the range of PRx values of at least 0.2; in other words, curves that are too “flat” are rejected.\n",
    ">\n",
    "> **If all attempts have been exhausted and no satisfactory curve was fitted, the procedure returns an invalid value** (i.e., Not-A-Number value) for the selected period.\"(Aries 2012)\n",
    "\n",
    "12. Determine LLA using threshold, which depends on index type (Brady 2010, Lee 2013)\n",
    "\n",
    "References\n",
    "----------\n",
    "(Aries 2012) \"Continuous determination of optimal cerebral perfusion pressure in traumatic brain injury\" \n",
    "Crit Care Med 2012\n",
    "\n",
    "(Brady 2010) \"Monitoring Cerebral Blood Flow Pressure Autoregulation in \n",
    "Pediatric Patients During Cardiac Surgery\" Stroke 2010\n",
    "\n",
    "(Cabrera 2018) \"Elevated arterial blood pressure after superior cavo-pulmonary anastomosis \n",
    "is associated with elevated pulmonary artery pressure and cerebrovascular dysautoregulation\"\n",
    "Pediatr Res. 2018\n",
    "\n",
    "(Lee 2009) \"Cerebrovascular Reactivity Measured by Near-Infrared Spectroscopy\"\n",
    "Stroke 2009\n",
    "\n",
    "(Lee2013) \"Cerebrovascular Autoregulation in Pediatric Moyamoya Disease\"\n",
    "Paediatr Anaesth 2013"
   ]
  },
  {
   "cell_type": "code",
   "execution_count": null,
   "metadata": {
    "scrolled": false
   },
   "outputs": [],
   "source": [
    "# make a blank report template\n",
    "shutil.copy(template, report_location)\n",
    "print(report_location)\n",
    "\n",
    "times_to_run = list()\n",
    "\n",
    "\n",
    "current_procedure =''\n",
    "big_stats_df = pd.DataFrame()\n",
    "for patient_id, anes_start, anes_end, name, procedure in zip(\n",
    "    patient_list.patient_id\n",
    "    , patient_list['AnesthesiaStart']\n",
    "    , patient_list['AnesthesiaEnd']\n",
    "    , patient_list['Patients Name']\n",
    "    , patient_list['Procedure']\n",
    "    ) :\n",
    "    start = time.time()\n",
    "    print(patient_id)\n",
    "    \n",
    "    # check whether a section break is needed\n",
    "    if not current_procedure==procedure:\n",
    "        with open( report_location , 'a') as report:\n",
    "            report.writelines(\"\\n\\\\section{\"+procedure+\"}\\n\")\n",
    "        current_procedure=procedure\n",
    "    \n",
    "    with open( report_location , 'a') as report:\n",
    "        report.writelines(\"\\n\\\\subsection{Study ID: \" + str(patient_id) + \"}\\n\")\n",
    "    \n",
    "    for algo, algo_cbf_lim in zip(algos_to_try, algo_cbf_lims):\n",
    "        \n",
    "        # Plot full procedure\n",
    "        stats_df_tmp = report_patient_curves(patient_id=patient_id\n",
    "                              , start_time = anes_start\n",
    "                              , end_time = anes_end\n",
    "                              , output_dir = outdir\n",
    "                              , autoreg_algo = algo\n",
    "                              , cbf_limits = algo_cbf_lim\n",
    "                              , curve_name = 'Full Procedure ' + algo\n",
    "                              , threshold = ca_threshold)\n",
    "        stats_df_tmp['Procedure'] = current_procedure\n",
    "        big_stats_df = pd.concat([big_stats_df, stats_df_tmp])\n",
    "\n",
    "    stop = time.time()\n",
    "    duration = stop-start\n",
    "    times_to_run.append(duration)\n",
    "    \n",
    "# end document\n",
    "with open(report_location, 'a') as report:\n",
    "    report.writelines(\"\\n \\\\end{document}\")\n",
    "\n",
    "big_stats_df.head()"
   ]
  },
  {
   "cell_type": "markdown",
   "metadata": {},
   "source": [
    "## Save CSV with values of interest for each patient"
   ]
  },
  {
   "cell_type": "code",
   "execution_count": null,
   "metadata": {},
   "outputs": [],
   "source": [
    "big_stats_df.to_csv('GoodCurveData.csv', index=False)"
   ]
  },
  {
   "cell_type": "markdown",
   "metadata": {},
   "source": [
    "## Report average run time per patient"
   ]
  },
  {
   "cell_type": "code",
   "execution_count": null,
   "metadata": {},
   "outputs": [],
   "source": [
    "np.mean(times_to_run)"
   ]
  }
 ],
 "metadata": {
  "kernelspec": {
   "display_name": "Python 3",
   "language": "python",
   "name": "python3"
  },
  "language_info": {
   "codemirror_mode": {
    "name": "ipython",
    "version": 3
   },
   "file_extension": ".py",
   "mimetype": "text/x-python",
   "name": "python",
   "nbconvert_exporter": "python",
   "pygments_lexer": "ipython3",
   "version": "3.8.5"
  }
 },
 "nbformat": 4,
 "nbformat_minor": 4
}
